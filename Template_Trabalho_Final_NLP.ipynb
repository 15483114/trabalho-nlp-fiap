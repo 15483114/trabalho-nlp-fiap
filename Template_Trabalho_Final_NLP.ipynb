{
  "nbformat": 4,
  "nbformat_minor": 0,
  "metadata": {
    "colab": {
      "provenance": [],
      "include_colab_link": true
    },
    "kernelspec": {
      "name": "python3",
      "display_name": "Python 3"
    }
  },
  "cells": [
    {
      "cell_type": "markdown",
      "metadata": {
        "id": "view-in-github",
        "colab_type": "text"
      },
      "source": [
        "<a href=\"https://colab.research.google.com/github/15483114/trabalho-nlp-fiap/blob/main/Template_Trabalho_Final_NLP.ipynb\" target=\"_parent\"><img src=\"https://colab.research.google.com/assets/colab-badge.svg\" alt=\"Open In Colab\"/></a>"
      ]
    },
    {
      "cell_type": "markdown",
      "metadata": {
        "id": "VDbi6PDS9MYO"
      },
      "source": [
        "***Participantes (RM - NOME):***<br>\n",
        "347291 - Henrique Diniz<br>\n",
        "347017 - Isabella Kuo<br>\n",
        "xxxx - xxxxx<br>\n",
        "xxxx - xxxxx<br>"
      ]
    },
    {
      "cell_type": "markdown",
      "metadata": {
        "id": "7xw6WhaNo4k3"
      },
      "source": [
        "###**Criar um classificador de chamados aplicando técnicas de PLN**\n",
        "---\n",
        "\n",
        "A **QuantumFinance** tem um canal de atendimento via chat e precisar classificar os assuntos dos atendimentos para melhorar as tratativas dos chamados dos clientes. O canal recebe textos abertos dos clientes relatando o problema e/ou dúvida e depois é direcionado para algum uma área especialista no assunto para uma melhor tratativa.​\n",
        "\n",
        "Crie um modelo classificador de assuntos aplicando técnicas de PLN, que consiga classificar através de um texto o assunto conforme disponível na base de dados [1] para treinamento e validação do modelo seu modelo.​\n",
        "\n",
        "O modelo precisar atingir um score na **métrica F1 Score superior a 75%**. Utilize o dataset [1] para treinar e testar o modelo, separe o dataset em duas amostras (75% para treinamento e 25% para teste com o randon_state igual a 42).​\n",
        "\n",
        "Fique à vontade para testar e explorar as técnicas de pré-processamento, abordagens de NLP, algoritmos e bibliotecas, mas explique e justifique as suas decisões durante o desenvolvimento.​\n",
        "\n",
        "**Composição da nota:​**\n",
        "\n",
        "**50%** - Demonstrações das aplicações das técnicas de PLN (regras, pré-processamentos, tratamentos, variedade de modelos aplicados, organização do pipeline, etc.)​\n",
        "\n",
        "**50%** - Baseado na performance (score) obtida com a amostra de teste no pipeline do modelo campeão (validar com  a Métrica F1 Score). **Separar o pipeline completo do modelo campeão conforme template.​**\n",
        "\n",
        "O trabalho poderá ser feito em grupo de até 4 pessoas (mesmo grupo do Startup One).\n",
        "\n",
        "**[1] = ​https://dados-ml-pln.s3.sa-east-1.amazonaws.com/tickets_reclamacoes_classificados.csv**"
      ]
    },
    {
      "cell_type": "code",
      "metadata": {
        "id": "DMBI8SQtps1n"
      },
      "source": [
        "# CARREGANDO O DATA FRAME\n",
        "import pandas as pd\n",
        "df = pd.read_csv('https://dados-ml-pln.s3.sa-east-1.amazonaws.com/tickets_reclamacoes_classificados.csv', delimiter=';')\n",
        "\n",
        "# Façam o download do arquivo e utilizem localmente durante os testes"
      ],
      "execution_count": null,
      "outputs": []
    },
    {
      "cell_type": "code",
      "metadata": {
        "colab": {
          "base_uri": "https://localhost:8080/"
        },
        "id": "s__lBzDQwrcG",
        "outputId": "2fb25f56-ff55-4c43-dd88-41b6e135ecca"
      },
      "source": [
        "df.info()"
      ],
      "execution_count": null,
      "outputs": [
        {
          "output_type": "stream",
          "name": "stdout",
          "text": [
            "<class 'pandas.core.frame.DataFrame'>\n",
            "RangeIndex: 21072 entries, 0 to 21071\n",
            "Data columns (total 4 columns):\n",
            " #   Column                Non-Null Count  Dtype \n",
            "---  ------                --------------  ----- \n",
            " 0   id_reclamacao         21072 non-null  int64 \n",
            " 1   data_abertura         21072 non-null  object\n",
            " 2   categoria             21072 non-null  object\n",
            " 3   descricao_reclamacao  21072 non-null  object\n",
            "dtypes: int64(1), object(3)\n",
            "memory usage: 658.6+ KB\n"
          ]
        }
      ]
    },
    {
      "cell_type": "markdown",
      "metadata": {
        "id": "FyKC9Vhkp0BK"
      },
      "source": [
        "Bom desenvolvimento!"
      ]
    },
    {
      "cell_type": "code",
      "metadata": {
        "id": "nze8UbKhosm9",
        "outputId": "0ed0543e-c231-4903-80af-9137dba8bcdb",
        "colab": {
          "base_uri": "https://localhost:8080/",
          "height": 441
        }
      },
      "source": [
        "df"
      ],
      "execution_count": null,
      "outputs": [
        {
          "output_type": "execute_result",
          "data": {
            "text/plain": [
              "       id_reclamacao              data_abertura  \\\n",
              "0            3229299  2019-05-01T12:00:00-05:00   \n",
              "1            3199379  2019-04-02T12:00:00-05:00   \n",
              "2            3233499  2019-05-06T12:00:00-05:00   \n",
              "3            3180294  2019-03-14T12:00:00-05:00   \n",
              "4            3224980  2019-04-27T12:00:00-05:00   \n",
              "...              ...                        ...   \n",
              "21067        3094545  2018-12-07T12:00:00-05:00   \n",
              "21068        3091984  2018-12-05T12:00:00-05:00   \n",
              "21069        3133355  2019-01-25T12:00:00-05:00   \n",
              "21070        3110963  2018-12-27T12:00:00-05:00   \n",
              "21071        2001189  2016-07-06T12:00:00-05:00   \n",
              "\n",
              "                                 categoria  \\\n",
              "0                  Hipotecas / Empréstimos   \n",
              "1      Cartão de crédito / Cartão pré-pago   \n",
              "2      Cartão de crédito / Cartão pré-pago   \n",
              "3      Cartão de crédito / Cartão pré-pago   \n",
              "4               Serviços de conta bancária   \n",
              "...                                    ...   \n",
              "21067  Cartão de crédito / Cartão pré-pago   \n",
              "21068         Roubo / Relatório de disputa   \n",
              "21069         Roubo / Relatório de disputa   \n",
              "21070                               Outros   \n",
              "21071                               Outros   \n",
              "\n",
              "                                    descricao_reclamacao  \\\n",
              "0      Bom dia, meu nome é xxxx xxxx e agradeço se vo...   \n",
              "1      Atualizei meu cartão xxxx xxxx em xx/xx/2018 e...   \n",
              "2      O cartão Chase foi relatado em xx/xx/2019. No ...   \n",
              "3      Em xx/xx/2018, enquanto tentava reservar um ti...   \n",
              "4      Meu neto me dê cheque por {$ 1600,00} Eu depos...   \n",
              "...                                                  ...   \n",
              "21067  Depois de ser um cliente de cartão de persegui...   \n",
              "21068  Na quarta -feira, xx/xx/xxxx, liguei para o Ch...   \n",
              "21069  Não estou familiarizado com o XXXX Pay e não e...   \n",
              "21070  Eu tive crédito impecável por 30 anos. Eu tive...   \n",
              "21071  Mais de 10 anos atrás, encerrei minhas contas ...   \n",
              "\n",
              "                                                    tudo  \n",
              "0      Hipotecas / Empréstimos Bom dia, meu nome é xx...  \n",
              "1      Cartão de crédito / Cartão pré-pago Atualizei ...  \n",
              "2      Cartão de crédito / Cartão pré-pago O cartão C...  \n",
              "3      Cartão de crédito / Cartão pré-pago Em xx/xx/2...  \n",
              "4      Serviços de conta bancária Meu neto me dê cheq...  \n",
              "...                                                  ...  \n",
              "21067  Cartão de crédito / Cartão pré-pago Depois de ...  \n",
              "21068  Roubo / Relatório de disputa Na quarta -feira,...  \n",
              "21069  Roubo / Relatório de disputa Não estou familia...  \n",
              "21070  Outros Eu tive crédito impecável por 30 anos. ...  \n",
              "21071  Outros Mais de 10 anos atrás, encerrei minhas ...  \n",
              "\n",
              "[21072 rows x 5 columns]"
            ],
            "text/html": [
              "\n",
              "  <div id=\"df-9d78d6ea-4000-4e3c-801f-5861fe2924dd\">\n",
              "    <div class=\"colab-df-container\">\n",
              "      <div>\n",
              "<style scoped>\n",
              "    .dataframe tbody tr th:only-of-type {\n",
              "        vertical-align: middle;\n",
              "    }\n",
              "\n",
              "    .dataframe tbody tr th {\n",
              "        vertical-align: top;\n",
              "    }\n",
              "\n",
              "    .dataframe thead th {\n",
              "        text-align: right;\n",
              "    }\n",
              "</style>\n",
              "<table border=\"1\" class=\"dataframe\">\n",
              "  <thead>\n",
              "    <tr style=\"text-align: right;\">\n",
              "      <th></th>\n",
              "      <th>id_reclamacao</th>\n",
              "      <th>data_abertura</th>\n",
              "      <th>categoria</th>\n",
              "      <th>descricao_reclamacao</th>\n",
              "      <th>tudo</th>\n",
              "    </tr>\n",
              "  </thead>\n",
              "  <tbody>\n",
              "    <tr>\n",
              "      <th>0</th>\n",
              "      <td>3229299</td>\n",
              "      <td>2019-05-01T12:00:00-05:00</td>\n",
              "      <td>Hipotecas / Empréstimos</td>\n",
              "      <td>Bom dia, meu nome é xxxx xxxx e agradeço se vo...</td>\n",
              "      <td>Hipotecas / Empréstimos Bom dia, meu nome é xx...</td>\n",
              "    </tr>\n",
              "    <tr>\n",
              "      <th>1</th>\n",
              "      <td>3199379</td>\n",
              "      <td>2019-04-02T12:00:00-05:00</td>\n",
              "      <td>Cartão de crédito / Cartão pré-pago</td>\n",
              "      <td>Atualizei meu cartão xxxx xxxx em xx/xx/2018 e...</td>\n",
              "      <td>Cartão de crédito / Cartão pré-pago Atualizei ...</td>\n",
              "    </tr>\n",
              "    <tr>\n",
              "      <th>2</th>\n",
              "      <td>3233499</td>\n",
              "      <td>2019-05-06T12:00:00-05:00</td>\n",
              "      <td>Cartão de crédito / Cartão pré-pago</td>\n",
              "      <td>O cartão Chase foi relatado em xx/xx/2019. No ...</td>\n",
              "      <td>Cartão de crédito / Cartão pré-pago O cartão C...</td>\n",
              "    </tr>\n",
              "    <tr>\n",
              "      <th>3</th>\n",
              "      <td>3180294</td>\n",
              "      <td>2019-03-14T12:00:00-05:00</td>\n",
              "      <td>Cartão de crédito / Cartão pré-pago</td>\n",
              "      <td>Em xx/xx/2018, enquanto tentava reservar um ti...</td>\n",
              "      <td>Cartão de crédito / Cartão pré-pago Em xx/xx/2...</td>\n",
              "    </tr>\n",
              "    <tr>\n",
              "      <th>4</th>\n",
              "      <td>3224980</td>\n",
              "      <td>2019-04-27T12:00:00-05:00</td>\n",
              "      <td>Serviços de conta bancária</td>\n",
              "      <td>Meu neto me dê cheque por {$ 1600,00} Eu depos...</td>\n",
              "      <td>Serviços de conta bancária Meu neto me dê cheq...</td>\n",
              "    </tr>\n",
              "    <tr>\n",
              "      <th>...</th>\n",
              "      <td>...</td>\n",
              "      <td>...</td>\n",
              "      <td>...</td>\n",
              "      <td>...</td>\n",
              "      <td>...</td>\n",
              "    </tr>\n",
              "    <tr>\n",
              "      <th>21067</th>\n",
              "      <td>3094545</td>\n",
              "      <td>2018-12-07T12:00:00-05:00</td>\n",
              "      <td>Cartão de crédito / Cartão pré-pago</td>\n",
              "      <td>Depois de ser um cliente de cartão de persegui...</td>\n",
              "      <td>Cartão de crédito / Cartão pré-pago Depois de ...</td>\n",
              "    </tr>\n",
              "    <tr>\n",
              "      <th>21068</th>\n",
              "      <td>3091984</td>\n",
              "      <td>2018-12-05T12:00:00-05:00</td>\n",
              "      <td>Roubo / Relatório de disputa</td>\n",
              "      <td>Na quarta -feira, xx/xx/xxxx, liguei para o Ch...</td>\n",
              "      <td>Roubo / Relatório de disputa Na quarta -feira,...</td>\n",
              "    </tr>\n",
              "    <tr>\n",
              "      <th>21069</th>\n",
              "      <td>3133355</td>\n",
              "      <td>2019-01-25T12:00:00-05:00</td>\n",
              "      <td>Roubo / Relatório de disputa</td>\n",
              "      <td>Não estou familiarizado com o XXXX Pay e não e...</td>\n",
              "      <td>Roubo / Relatório de disputa Não estou familia...</td>\n",
              "    </tr>\n",
              "    <tr>\n",
              "      <th>21070</th>\n",
              "      <td>3110963</td>\n",
              "      <td>2018-12-27T12:00:00-05:00</td>\n",
              "      <td>Outros</td>\n",
              "      <td>Eu tive crédito impecável por 30 anos. Eu tive...</td>\n",
              "      <td>Outros Eu tive crédito impecável por 30 anos. ...</td>\n",
              "    </tr>\n",
              "    <tr>\n",
              "      <th>21071</th>\n",
              "      <td>2001189</td>\n",
              "      <td>2016-07-06T12:00:00-05:00</td>\n",
              "      <td>Outros</td>\n",
              "      <td>Mais de 10 anos atrás, encerrei minhas contas ...</td>\n",
              "      <td>Outros Mais de 10 anos atrás, encerrei minhas ...</td>\n",
              "    </tr>\n",
              "  </tbody>\n",
              "</table>\n",
              "<p>21072 rows × 5 columns</p>\n",
              "</div>\n",
              "      <button class=\"colab-df-convert\" onclick=\"convertToInteractive('df-9d78d6ea-4000-4e3c-801f-5861fe2924dd')\"\n",
              "              title=\"Convert this dataframe to an interactive table.\"\n",
              "              style=\"display:none;\">\n",
              "        \n",
              "  <svg xmlns=\"http://www.w3.org/2000/svg\" height=\"24px\"viewBox=\"0 0 24 24\"\n",
              "       width=\"24px\">\n",
              "    <path d=\"M0 0h24v24H0V0z\" fill=\"none\"/>\n",
              "    <path d=\"M18.56 5.44l.94 2.06.94-2.06 2.06-.94-2.06-.94-.94-2.06-.94 2.06-2.06.94zm-11 1L8.5 8.5l.94-2.06 2.06-.94-2.06-.94L8.5 2.5l-.94 2.06-2.06.94zm10 10l.94 2.06.94-2.06 2.06-.94-2.06-.94-.94-2.06-.94 2.06-2.06.94z\"/><path d=\"M17.41 7.96l-1.37-1.37c-.4-.4-.92-.59-1.43-.59-.52 0-1.04.2-1.43.59L10.3 9.45l-7.72 7.72c-.78.78-.78 2.05 0 2.83L4 21.41c.39.39.9.59 1.41.59.51 0 1.02-.2 1.41-.59l7.78-7.78 2.81-2.81c.8-.78.8-2.07 0-2.86zM5.41 20L4 18.59l7.72-7.72 1.47 1.35L5.41 20z\"/>\n",
              "  </svg>\n",
              "      </button>\n",
              "      \n",
              "  <style>\n",
              "    .colab-df-container {\n",
              "      display:flex;\n",
              "      flex-wrap:wrap;\n",
              "      gap: 12px;\n",
              "    }\n",
              "\n",
              "    .colab-df-convert {\n",
              "      background-color: #E8F0FE;\n",
              "      border: none;\n",
              "      border-radius: 50%;\n",
              "      cursor: pointer;\n",
              "      display: none;\n",
              "      fill: #1967D2;\n",
              "      height: 32px;\n",
              "      padding: 0 0 0 0;\n",
              "      width: 32px;\n",
              "    }\n",
              "\n",
              "    .colab-df-convert:hover {\n",
              "      background-color: #E2EBFA;\n",
              "      box-shadow: 0px 1px 2px rgba(60, 64, 67, 0.3), 0px 1px 3px 1px rgba(60, 64, 67, 0.15);\n",
              "      fill: #174EA6;\n",
              "    }\n",
              "\n",
              "    [theme=dark] .colab-df-convert {\n",
              "      background-color: #3B4455;\n",
              "      fill: #D2E3FC;\n",
              "    }\n",
              "\n",
              "    [theme=dark] .colab-df-convert:hover {\n",
              "      background-color: #434B5C;\n",
              "      box-shadow: 0px 1px 3px 1px rgba(0, 0, 0, 0.15);\n",
              "      filter: drop-shadow(0px 1px 2px rgba(0, 0, 0, 0.3));\n",
              "      fill: #FFFFFF;\n",
              "    }\n",
              "  </style>\n",
              "\n",
              "      <script>\n",
              "        const buttonEl =\n",
              "          document.querySelector('#df-9d78d6ea-4000-4e3c-801f-5861fe2924dd button.colab-df-convert');\n",
              "        buttonEl.style.display =\n",
              "          google.colab.kernel.accessAllowed ? 'block' : 'none';\n",
              "\n",
              "        async function convertToInteractive(key) {\n",
              "          const element = document.querySelector('#df-9d78d6ea-4000-4e3c-801f-5861fe2924dd');\n",
              "          const dataTable =\n",
              "            await google.colab.kernel.invokeFunction('convertToInteractive',\n",
              "                                                     [key], {});\n",
              "          if (!dataTable) return;\n",
              "\n",
              "          const docLinkHtml = 'Like what you see? Visit the ' +\n",
              "            '<a target=\"_blank\" href=https://colab.research.google.com/notebooks/data_table.ipynb>data table notebook</a>'\n",
              "            + ' to learn more about interactive tables.';\n",
              "          element.innerHTML = '';\n",
              "          dataTable['output_type'] = 'display_data';\n",
              "          await google.colab.output.renderOutput(dataTable, element);\n",
              "          const docLink = document.createElement('div');\n",
              "          docLink.innerHTML = docLinkHtml;\n",
              "          element.appendChild(docLink);\n",
              "        }\n",
              "      </script>\n",
              "    </div>\n",
              "  </div>\n",
              "  "
            ]
          },
          "metadata": {},
          "execution_count": 5
        },
        {
          "output_type": "stream",
          "name": "stdout",
          "text": [
            "Warning: total number of rows (21072) exceeds max_rows (20000). Limiting to first (20000) rows.\n"
          ]
        }
      ]
    },
    {
      "cell_type": "markdown",
      "source": [
        "Pré processamento"
      ],
      "metadata": {
        "id": "VWY1ahjZ9EBI"
      }
    },
    {
      "cell_type": "code",
      "source": [
        "df['categoria'].value_counts()"
      ],
      "metadata": {
        "colab": {
          "base_uri": "https://localhost:8080/"
        },
        "id": "T77L0W4h9FW5",
        "outputId": "6ecb7b62-6b91-44cb-a725-7a41ed0ca235"
      },
      "execution_count": null,
      "outputs": [
        {
          "output_type": "execute_result",
          "data": {
            "text/plain": [
              "Serviços de conta bancária             5161\n",
              "Cartão de crédito / Cartão pré-pago    5006\n",
              "Roubo / Relatório de disputa           4822\n",
              "Hipotecas / Empréstimos                3850\n",
              "Outros                                 2233\n",
              "Name: categoria, dtype: int64"
            ]
          },
          "metadata": {},
          "execution_count": 15
        }
      ]
    },
    {
      "cell_type": "code",
      "source": [
        "# removendo pontuação e acentuação e colocando tudo em letra minuscula\n",
        "import re\n",
        "\n",
        "corpus = []\n",
        "for x in df['descricao_reclamacao']:\n",
        "  review = re.sub('[^a-zA-Z]', ' ', x)\n",
        "  review = review.lower()\n",
        "  corpus.append(review)\n",
        "df['descricao_reclamacao'] = corpus"
      ],
      "metadata": {
        "id": "M_cUU-6gIOr9"
      },
      "execution_count": null,
      "outputs": []
    },
    {
      "cell_type": "code",
      "source": [
        "df"
      ],
      "metadata": {
        "colab": {
          "base_uri": "https://localhost:8080/",
          "height": 423
        },
        "id": "4ewq5z3nIV0N",
        "outputId": "767de9fd-7dde-477f-fcd2-cb55ec6510d4"
      },
      "execution_count": null,
      "outputs": [
        {
          "output_type": "execute_result",
          "data": {
            "text/plain": [
              "       id_reclamacao              data_abertura  \\\n",
              "0            3229299  2019-05-01T12:00:00-05:00   \n",
              "1            3199379  2019-04-02T12:00:00-05:00   \n",
              "2            3233499  2019-05-06T12:00:00-05:00   \n",
              "3            3180294  2019-03-14T12:00:00-05:00   \n",
              "4            3224980  2019-04-27T12:00:00-05:00   \n",
              "...              ...                        ...   \n",
              "21067        3094545  2018-12-07T12:00:00-05:00   \n",
              "21068        3091984  2018-12-05T12:00:00-05:00   \n",
              "21069        3133355  2019-01-25T12:00:00-05:00   \n",
              "21070        3110963  2018-12-27T12:00:00-05:00   \n",
              "21071        2001189  2016-07-06T12:00:00-05:00   \n",
              "\n",
              "                                 categoria  \\\n",
              "0                  Hipotecas / Empréstimos   \n",
              "1      Cartão de crédito / Cartão pré-pago   \n",
              "2      Cartão de crédito / Cartão pré-pago   \n",
              "3      Cartão de crédito / Cartão pré-pago   \n",
              "4               Serviços de conta bancária   \n",
              "...                                    ...   \n",
              "21067  Cartão de crédito / Cartão pré-pago   \n",
              "21068         Roubo / Relatório de disputa   \n",
              "21069         Roubo / Relatório de disputa   \n",
              "21070                               Outros   \n",
              "21071                               Outros   \n",
              "\n",
              "                                    descricao_reclamacao  \n",
              "0      bom dia  meu nome   xxxx xxxx e agrade o se vo...  \n",
              "1      atualizei meu cart o xxxx xxxx em xx xx      e...  \n",
              "2      o cart o chase foi relatado em xx xx       no ...  \n",
              "3      em xx xx       enquanto tentava reservar um ti...  \n",
              "4      meu neto me d  cheque por             eu depos...  \n",
              "...                                                  ...  \n",
              "21067  depois de ser um cliente de cart o de persegui...  \n",
              "21068  na quarta  feira  xx xx xxxx  liguei para o ch...  \n",
              "21069  n o estou familiarizado com o xxxx pay e n o e...  \n",
              "21070  eu tive cr dito impec vel por    anos  eu tive...  \n",
              "21071  mais de    anos atr s  encerrei minhas contas ...  \n",
              "\n",
              "[21072 rows x 4 columns]"
            ],
            "text/html": [
              "\n",
              "  <div id=\"df-928be124-735e-490f-9f91-1ceb04a100be\">\n",
              "    <div class=\"colab-df-container\">\n",
              "      <div>\n",
              "<style scoped>\n",
              "    .dataframe tbody tr th:only-of-type {\n",
              "        vertical-align: middle;\n",
              "    }\n",
              "\n",
              "    .dataframe tbody tr th {\n",
              "        vertical-align: top;\n",
              "    }\n",
              "\n",
              "    .dataframe thead th {\n",
              "        text-align: right;\n",
              "    }\n",
              "</style>\n",
              "<table border=\"1\" class=\"dataframe\">\n",
              "  <thead>\n",
              "    <tr style=\"text-align: right;\">\n",
              "      <th></th>\n",
              "      <th>id_reclamacao</th>\n",
              "      <th>data_abertura</th>\n",
              "      <th>categoria</th>\n",
              "      <th>descricao_reclamacao</th>\n",
              "    </tr>\n",
              "  </thead>\n",
              "  <tbody>\n",
              "    <tr>\n",
              "      <th>0</th>\n",
              "      <td>3229299</td>\n",
              "      <td>2019-05-01T12:00:00-05:00</td>\n",
              "      <td>Hipotecas / Empréstimos</td>\n",
              "      <td>bom dia  meu nome   xxxx xxxx e agrade o se vo...</td>\n",
              "    </tr>\n",
              "    <tr>\n",
              "      <th>1</th>\n",
              "      <td>3199379</td>\n",
              "      <td>2019-04-02T12:00:00-05:00</td>\n",
              "      <td>Cartão de crédito / Cartão pré-pago</td>\n",
              "      <td>atualizei meu cart o xxxx xxxx em xx xx      e...</td>\n",
              "    </tr>\n",
              "    <tr>\n",
              "      <th>2</th>\n",
              "      <td>3233499</td>\n",
              "      <td>2019-05-06T12:00:00-05:00</td>\n",
              "      <td>Cartão de crédito / Cartão pré-pago</td>\n",
              "      <td>o cart o chase foi relatado em xx xx       no ...</td>\n",
              "    </tr>\n",
              "    <tr>\n",
              "      <th>3</th>\n",
              "      <td>3180294</td>\n",
              "      <td>2019-03-14T12:00:00-05:00</td>\n",
              "      <td>Cartão de crédito / Cartão pré-pago</td>\n",
              "      <td>em xx xx       enquanto tentava reservar um ti...</td>\n",
              "    </tr>\n",
              "    <tr>\n",
              "      <th>4</th>\n",
              "      <td>3224980</td>\n",
              "      <td>2019-04-27T12:00:00-05:00</td>\n",
              "      <td>Serviços de conta bancária</td>\n",
              "      <td>meu neto me d  cheque por             eu depos...</td>\n",
              "    </tr>\n",
              "    <tr>\n",
              "      <th>...</th>\n",
              "      <td>...</td>\n",
              "      <td>...</td>\n",
              "      <td>...</td>\n",
              "      <td>...</td>\n",
              "    </tr>\n",
              "    <tr>\n",
              "      <th>21067</th>\n",
              "      <td>3094545</td>\n",
              "      <td>2018-12-07T12:00:00-05:00</td>\n",
              "      <td>Cartão de crédito / Cartão pré-pago</td>\n",
              "      <td>depois de ser um cliente de cart o de persegui...</td>\n",
              "    </tr>\n",
              "    <tr>\n",
              "      <th>21068</th>\n",
              "      <td>3091984</td>\n",
              "      <td>2018-12-05T12:00:00-05:00</td>\n",
              "      <td>Roubo / Relatório de disputa</td>\n",
              "      <td>na quarta  feira  xx xx xxxx  liguei para o ch...</td>\n",
              "    </tr>\n",
              "    <tr>\n",
              "      <th>21069</th>\n",
              "      <td>3133355</td>\n",
              "      <td>2019-01-25T12:00:00-05:00</td>\n",
              "      <td>Roubo / Relatório de disputa</td>\n",
              "      <td>n o estou familiarizado com o xxxx pay e n o e...</td>\n",
              "    </tr>\n",
              "    <tr>\n",
              "      <th>21070</th>\n",
              "      <td>3110963</td>\n",
              "      <td>2018-12-27T12:00:00-05:00</td>\n",
              "      <td>Outros</td>\n",
              "      <td>eu tive cr dito impec vel por    anos  eu tive...</td>\n",
              "    </tr>\n",
              "    <tr>\n",
              "      <th>21071</th>\n",
              "      <td>2001189</td>\n",
              "      <td>2016-07-06T12:00:00-05:00</td>\n",
              "      <td>Outros</td>\n",
              "      <td>mais de    anos atr s  encerrei minhas contas ...</td>\n",
              "    </tr>\n",
              "  </tbody>\n",
              "</table>\n",
              "<p>21072 rows × 4 columns</p>\n",
              "</div>\n",
              "      <button class=\"colab-df-convert\" onclick=\"convertToInteractive('df-928be124-735e-490f-9f91-1ceb04a100be')\"\n",
              "              title=\"Convert this dataframe to an interactive table.\"\n",
              "              style=\"display:none;\">\n",
              "        \n",
              "  <svg xmlns=\"http://www.w3.org/2000/svg\" height=\"24px\"viewBox=\"0 0 24 24\"\n",
              "       width=\"24px\">\n",
              "    <path d=\"M0 0h24v24H0V0z\" fill=\"none\"/>\n",
              "    <path d=\"M18.56 5.44l.94 2.06.94-2.06 2.06-.94-2.06-.94-.94-2.06-.94 2.06-2.06.94zm-11 1L8.5 8.5l.94-2.06 2.06-.94-2.06-.94L8.5 2.5l-.94 2.06-2.06.94zm10 10l.94 2.06.94-2.06 2.06-.94-2.06-.94-.94-2.06-.94 2.06-2.06.94z\"/><path d=\"M17.41 7.96l-1.37-1.37c-.4-.4-.92-.59-1.43-.59-.52 0-1.04.2-1.43.59L10.3 9.45l-7.72 7.72c-.78.78-.78 2.05 0 2.83L4 21.41c.39.39.9.59 1.41.59.51 0 1.02-.2 1.41-.59l7.78-7.78 2.81-2.81c.8-.78.8-2.07 0-2.86zM5.41 20L4 18.59l7.72-7.72 1.47 1.35L5.41 20z\"/>\n",
              "  </svg>\n",
              "      </button>\n",
              "      \n",
              "  <style>\n",
              "    .colab-df-container {\n",
              "      display:flex;\n",
              "      flex-wrap:wrap;\n",
              "      gap: 12px;\n",
              "    }\n",
              "\n",
              "    .colab-df-convert {\n",
              "      background-color: #E8F0FE;\n",
              "      border: none;\n",
              "      border-radius: 50%;\n",
              "      cursor: pointer;\n",
              "      display: none;\n",
              "      fill: #1967D2;\n",
              "      height: 32px;\n",
              "      padding: 0 0 0 0;\n",
              "      width: 32px;\n",
              "    }\n",
              "\n",
              "    .colab-df-convert:hover {\n",
              "      background-color: #E2EBFA;\n",
              "      box-shadow: 0px 1px 2px rgba(60, 64, 67, 0.3), 0px 1px 3px 1px rgba(60, 64, 67, 0.15);\n",
              "      fill: #174EA6;\n",
              "    }\n",
              "\n",
              "    [theme=dark] .colab-df-convert {\n",
              "      background-color: #3B4455;\n",
              "      fill: #D2E3FC;\n",
              "    }\n",
              "\n",
              "    [theme=dark] .colab-df-convert:hover {\n",
              "      background-color: #434B5C;\n",
              "      box-shadow: 0px 1px 3px 1px rgba(0, 0, 0, 0.15);\n",
              "      filter: drop-shadow(0px 1px 2px rgba(0, 0, 0, 0.3));\n",
              "      fill: #FFFFFF;\n",
              "    }\n",
              "  </style>\n",
              "\n",
              "      <script>\n",
              "        const buttonEl =\n",
              "          document.querySelector('#df-928be124-735e-490f-9f91-1ceb04a100be button.colab-df-convert');\n",
              "        buttonEl.style.display =\n",
              "          google.colab.kernel.accessAllowed ? 'block' : 'none';\n",
              "\n",
              "        async function convertToInteractive(key) {\n",
              "          const element = document.querySelector('#df-928be124-735e-490f-9f91-1ceb04a100be');\n",
              "          const dataTable =\n",
              "            await google.colab.kernel.invokeFunction('convertToInteractive',\n",
              "                                                     [key], {});\n",
              "          if (!dataTable) return;\n",
              "\n",
              "          const docLinkHtml = 'Like what you see? Visit the ' +\n",
              "            '<a target=\"_blank\" href=https://colab.research.google.com/notebooks/data_table.ipynb>data table notebook</a>'\n",
              "            + ' to learn more about interactive tables.';\n",
              "          element.innerHTML = '';\n",
              "          dataTable['output_type'] = 'display_data';\n",
              "          await google.colab.output.renderOutput(dataTable, element);\n",
              "          const docLink = document.createElement('div');\n",
              "          docLink.innerHTML = docLinkHtml;\n",
              "          element.appendChild(docLink);\n",
              "        }\n",
              "      </script>\n",
              "    </div>\n",
              "  </div>\n",
              "  "
            ]
          },
          "metadata": {},
          "execution_count": 7
        }
      ]
    },
    {
      "cell_type": "markdown",
      "source": [
        "Separando em treino e teste e escolhendo ngrams"
      ],
      "metadata": {
        "id": "x9SN-tmH_Yqr"
      }
    },
    {
      "cell_type": "code",
      "source": [
        "from sklearn.feature_extraction.text import TfidfVectorizer\n",
        "import nltk\n",
        "nltk.download('stopwords')\n",
        "\n",
        "stops = nltk.corpus.stopwords.words('portuguese')"
      ],
      "metadata": {
        "colab": {
          "base_uri": "https://localhost:8080/"
        },
        "id": "R1fApEMi_sNa",
        "outputId": "b3472e8f-c62c-4e44-b801-0b4e56198679"
      },
      "execution_count": null,
      "outputs": [
        {
          "output_type": "stream",
          "name": "stderr",
          "text": [
            "[nltk_data] Downloading package stopwords to /root/nltk_data...\n",
            "[nltk_data]   Package stopwords is already up-to-date!\n"
          ]
        }
      ]
    },
    {
      "cell_type": "code",
      "metadata": {
        "id": "FziwgqJmw9OD"
      },
      "source": [
        "from sklearn.feature_extraction.text import TfidfVectorizer\n",
        "\n",
        "# Criar uma instância do vetorizador TF-IDF\n",
        "# vectorizer = TfidfVectorizer(ngram_range=(1,1), use_idf=True)\n",
        "vectorizer = TfidfVectorizer(ngram_range=(1,1), use_idf=True, stop_words=stops)\n",
        "vectorizer.fit(df[\"descricao_reclamacao\"])\n",
        "# Vetorizar os dados de texto\n",
        "X_1 = vectorizer.fit_transform(df[\"descricao_reclamacao\"])"
      ],
      "execution_count": null,
      "outputs": []
    },
    {
      "cell_type": "code",
      "source": [
        "# Criar uma instância do vetorizador TF-IDF\n",
        "# vectorizer = TfidfVectorizer(ngram_range=(2,2), use_idf=True)\n",
        "vectorizer = TfidfVectorizer(ngram_range=(2,2), use_idf=True, stop_words=stops)\n",
        "vectorizer.fit(df[\"descricao_reclamacao\"])\n",
        "# Vetorizar os dados de texto\n",
        "X_2 = vectorizer.fit_transform(df[\"descricao_reclamacao\"])"
      ],
      "metadata": {
        "id": "adtA36KV5DjK"
      },
      "execution_count": null,
      "outputs": []
    },
    {
      "cell_type": "code",
      "source": [
        "# Criar uma instância do vetorizador TF-IDF\n",
        "# vectorizer = TfidfVectorizer(ngram_range=(3,3), use_idf=True)\n",
        "vectorizer = TfidfVectorizer(ngram_range=(3,3), use_idf=True, stop_words=stops)\n",
        "vectorizer.fit(df[\"descricao_reclamacao\"])\n",
        "# Vetorizar os dados de texto\n",
        "X_3 = vectorizer.fit_transform(df[\"descricao_reclamacao\"])"
      ],
      "metadata": {
        "id": "EKZk2vrs5DZg"
      },
      "execution_count": null,
      "outputs": []
    },
    {
      "cell_type": "code",
      "source": [
        "X = X_1\n",
        "# X = X_2\n",
        "# X = X_3"
      ],
      "metadata": {
        "id": "9dxQKEt65u58"
      },
      "execution_count": null,
      "outputs": []
    },
    {
      "cell_type": "code",
      "metadata": {
        "id": "25cBRwGAw8-1"
      },
      "source": [
        "from sklearn.preprocessing import LabelEncoder\n",
        "\n",
        "y = df['categoria']\n",
        "# Criar uma instância do LabelEncoder\n",
        "label_encoder = LabelEncoder()\n",
        "\n",
        "# Aplicar o LabelEncoder aos rótulos\n",
        "y_encoded = label_encoder.fit_transform(y)"
      ],
      "execution_count": null,
      "outputs": []
    },
    {
      "cell_type": "code",
      "source": [
        "from sklearn.model_selection import train_test_split\n",
        "\n",
        "X_treino, X_teste, y_treino, y_teste = train_test_split(X,y_encoded, test_size = 0.25)"
      ],
      "metadata": {
        "id": "gDR7sXdu6nMK"
      },
      "execution_count": null,
      "outputs": []
    },
    {
      "cell_type": "markdown",
      "source": [
        "Como o problema é multiclasse utilizaremos de outras varições do f1 score para validar o modelo\n",
        "\n"
      ],
      "metadata": {
        "id": "zLAoMf1BBF5o"
      }
    },
    {
      "cell_type": "code",
      "source": [
        "from sklearn.naive_bayes import MultinomialNB\n",
        "from sklearn.metrics import accuracy_score, f1_score\n",
        "\n",
        "# Create a Naive Bayes classifier\n",
        "classifier = MultinomialNB()\n",
        "\n",
        "# Train the classifier\n",
        "classifier.fit(X_treino, y_treino)\n",
        "\n",
        "# Make predictions on the test set\n",
        "y_pred = classifier.predict(X_teste)\n",
        "\n",
        "# Calculate the accuracy of the classifier\n",
        "accuracy = accuracy_score(y_teste, y_pred)\n",
        "print(\"Accuracy:\", accuracy)\n",
        "from sklearn.metrics import f1_score\n",
        "\n",
        "# Macro-Averaged F1 Score\n",
        "f1_macro = f1_score(y_teste, y_pred, average='macro')\n",
        "\n",
        "# Micro-Averaged F1 Score\n",
        "f1_micro = f1_score(y_teste, y_pred, average='micro')\n",
        "\n",
        "# Weighted-Averaged F1 Score\n",
        "f1_weighted = f1_score(y_teste, y_pred, average='weighted')\n",
        "\n",
        "print(\"Macro-Averaged F1 Score:\", f1_macro)\n",
        "print(\"Micro-Averaged F1 Score:\", f1_micro)\n",
        "print(\"Weighted-Averaged F1 Score:\", f1_weighted)"
      ],
      "metadata": {
        "colab": {
          "base_uri": "https://localhost:8080/"
        },
        "id": "usbC2vq47fMQ",
        "outputId": "11427587-c1c6-4bbc-f94b-b94d359f9956"
      },
      "execution_count": null,
      "outputs": [
        {
          "output_type": "stream",
          "name": "stdout",
          "text": [
            "Accuracy: 0.739749430523918\n",
            "Macro-Averaged F1 Score: 0.6374554093673994\n",
            "Micro-Averaged F1 Score: 0.739749430523918\n",
            "Weighted-Averaged F1 Score: 0.703329638184693\n"
          ]
        }
      ]
    },
    {
      "cell_type": "markdown",
      "source": [
        "Unigrama:\n",
        "\n",
        "Accuracy: 0.7348139711465452\n",
        "\n",
        "Macro-Averaged F1 Score: 0.6263281248733904\n",
        "\n",
        "Micro-Averaged F1 Score: 0.7348139711465452\n",
        "\n",
        "Weighted-Averaged F1 Score: 0.6989145954572505\n",
        "\n",
        "Bigrama:\n",
        "\n",
        "Accuracy: 0.7260820045558086\n",
        "\n",
        "Macro-Averaged F1 Score: 0.6225399037594219\n",
        "\n",
        "Micro-Averaged F1 Score: 0.7260820045558086\n",
        "\n",
        "Weighted-Averaged F1 Score: 0.6893620400596979\n",
        "\n",
        "Trigrama:\n",
        "\n",
        "Accuracy: 0.6909643128321944\n",
        "\n",
        "Macro-Averaged F1 Score: 0.5906447182564049\n",
        "\n",
        "Micro-Averaged F1 Score: 0.6909643128321944\n",
        "\n",
        "Weighted-Averaged F1 Score: 0.6523435504092788\n",
        "\n",
        "\n",
        "Unigrama sem stop words:\n",
        "\n",
        "Accuracy: 0.739749430523918\n",
        "\n",
        "Macro-Averaged F1 Score: 0.6374554093673994\n",
        "\n",
        "Micro-Averaged F1 Score: 0.739749430523918\n",
        "\n",
        "Weighted-Averaged F1 Score: 0.703329638184693"
      ],
      "metadata": {
        "id": "iU8Z8qzu6n19"
      }
    },
    {
      "cell_type": "code",
      "source": [],
      "metadata": {
        "id": "AlFtnnpC6mWu"
      },
      "execution_count": null,
      "outputs": []
    },
    {
      "cell_type": "code",
      "source": [
        "from sklearn.ensemble import RandomForestClassifier\n",
        "\n",
        "# Create a Random Forest classifier\n",
        "classifier = RandomForestClassifier(n_estimators=100, random_state=42)\n",
        "\n",
        "# Train the classifier\n",
        "classifier.fit(X_treino, y_treino)\n",
        "\n",
        "# Make predictions on the test set\n",
        "y_pred = classifier.predict(X_teste)\n",
        "\n",
        "# Calculate the accuracy of the classifier\n",
        "accuracy = accuracy_score(y_teste, y_pred)\n",
        "print(\"Accuracy:\", accuracy)"
      ],
      "metadata": {
        "colab": {
          "base_uri": "https://localhost:8080/"
        },
        "id": "hVj2PjiJ9A6g",
        "outputId": "f71d39d2-3ba3-44fe-f8c9-d0d6ee071c8b"
      },
      "execution_count": null,
      "outputs": [
        {
          "output_type": "stream",
          "name": "stdout",
          "text": [
            "Accuracy: 0.821753986332574\n"
          ]
        }
      ]
    },
    {
      "cell_type": "code",
      "source": [
        "from sklearn.metrics import f1_score\n",
        "\n",
        "# Macro-Averaged F1 Score\n",
        "f1_macro = f1_score(y_teste, y_pred, average='macro')\n",
        "\n",
        "# Micro-Averaged F1 Score\n",
        "f1_micro = f1_score(y_teste, y_pred, average='micro')\n",
        "\n",
        "# Weighted-Averaged F1 Score\n",
        "f1_weighted = f1_score(y_teste, y_pred, average='weighted')\n",
        "\n",
        "print(\"Macro-Averaged F1 Score:\", f1_macro)\n",
        "print(\"Micro-Averaged F1 Score:\", f1_micro)\n",
        "print(\"Weighted-Averaged F1 Score:\", f1_weighted)"
      ],
      "metadata": {
        "colab": {
          "base_uri": "https://localhost:8080/"
        },
        "id": "0a0grxRkAU6l",
        "outputId": "a263d993-ef58-4b87-80ee-7400f085c679"
      },
      "execution_count": null,
      "outputs": [
        {
          "output_type": "stream",
          "name": "stdout",
          "text": [
            "Macro-Averaged F1 Score: 0.7834035787753042\n",
            "Micro-Averaged F1 Score: 0.821753986332574\n",
            "Weighted-Averaged F1 Score: 0.8117158662240792\n"
          ]
        }
      ]
    },
    {
      "cell_type": "markdown",
      "source": [
        "Unigrama:\n",
        "\n",
        "Accuracy: 0.816628701594533\n",
        "\n",
        "Macro-Averaged F1 Score: 0.7690315302323467\n",
        "\n",
        "Micro-Averaged F1 Score: 0.813591495823842\n",
        "\n",
        "Weighted-Averaged F1 Score: 0.8013434075942348\n",
        "\n",
        "Bigrama:\n",
        "\n",
        "Accuracy: 0.781700835231587\n",
        "\n",
        "Macro-Averaged F1 Score: 0.7380965640294812\n",
        "\n",
        "Micro-Averaged F1 Score: 0.781700835231587\n",
        "\n",
        "Weighted-Averaged F1 Score: 0.7691803633474319\n",
        "\n",
        "Trigrama:\n",
        "\n",
        "Accuracy: 0.7126044039483675\n",
        "\n",
        "Macro-Averaged F1 Score: 0.6537402160176755\n",
        "\n",
        "Micro-Averaged F1 Score: 0.7126044039483677\n",
        "\n",
        "Weighted-Averaged F1 Score: 0.6914457429509279\n",
        "\n",
        "\n",
        "Unigrama sem stop words:\n",
        "\n",
        "Accuracy: 0.821753986332574\n",
        "\n",
        "Macro-Averaged F1 Score: 0.7834035787753042\n",
        "\n",
        "Micro-Averaged F1 Score: 0.821753986332574\n",
        "\n",
        "Weighted-Averaged F1 Score: 0.8117158662240792\n"
      ],
      "metadata": {
        "id": "f7O6JOVE6voP"
      }
    },
    {
      "cell_type": "code",
      "source": [
        "from sklearn.svm import SVC\n",
        "from sklearn.metrics import accuracy_score, f1_score\n",
        "\n",
        "svm_model = SVC()\n",
        "\n",
        "# Train the classifier\n",
        "svm_model.fit(X_treino, y_treino)\n",
        "\n",
        "# Make predictions on the test set\n",
        "y_pred = svm_model.predict(X_teste)\n",
        "\n",
        "# Calculate the accuracy of the classifier\n",
        "accuracy = accuracy_score(y_teste, y_pred)\n",
        "print(\"Accuracy:\", accuracy)\n",
        "from sklearn.metrics import f1_score\n",
        "\n",
        "# Macro-Averaged F1 Score\n",
        "f1_macro = f1_score(y_teste, y_pred, average='macro')\n",
        "\n",
        "# Micro-Averaged F1 Score\n",
        "f1_micro = f1_score(y_teste, y_pred, average='micro')\n",
        "\n",
        "# Weighted-Averaged F1 Score\n",
        "f1_weighted = f1_score(y_teste, y_pred, average='weighted')\n",
        "\n",
        "print(\"Macro-Averaged F1 Score:\", f1_macro)\n",
        "print(\"Micro-Averaged F1 Score:\", f1_micro)\n",
        "print(\"Weighted-Averaged F1 Score:\", f1_weighted)"
      ],
      "metadata": {
        "colab": {
          "base_uri": "https://localhost:8080/"
        },
        "id": "KUsBU_D66vAp",
        "outputId": "01d007a4-652a-4c5e-dc7f-4182719928c6"
      },
      "execution_count": null,
      "outputs": [
        {
          "output_type": "stream",
          "name": "stdout",
          "text": [
            "Accuracy: 0.89958238420653\n",
            "Macro-Averaged F1 Score: 0.8974390696997606\n",
            "Micro-Averaged F1 Score: 0.89958238420653\n",
            "Weighted-Averaged F1 Score: 0.8993241668338668\n"
          ]
        }
      ]
    },
    {
      "cell_type": "markdown",
      "source": [
        "Unigrama:\n",
        "Accuracy: 0.89958238420653\n",
        "Macro-Averaged F1 Score: 0.8974390696997606\n",
        "Micro-Averaged F1 Score: 0.89958238420653\n",
        "Weighted-Averaged F1 Score: 0.8993241668338668\n",
        "\n",
        "\n",
        "Trigrama:\n",
        "\n",
        "Accuracy: 0.7050113895216401\n",
        "Macro-Averaged F1 Score: 0.6294979998062805\n",
        "Micro-Averaged F1 Score: 0.7050113895216401\n",
        "Weighted-Averaged F1 Score: 0.6786483822848587\n",
        "\n",
        "Unigrama sem stop words:\n",
        "\n",
        "Accuracy: 0.89958238420653\n",
        "Macro-Averaged F1 Score: 0.8974390696997606\n",
        "Micro-Averaged F1 Score: 0.89958238420653\n",
        "Weighted-Averaged F1 Score: 0.8993241668338668"
      ],
      "metadata": {
        "id": "5TrVuGCf9qSe"
      }
    },
    {
      "cell_type": "code",
      "source": [],
      "metadata": {
        "id": "ZUmuIMq36YAv"
      },
      "execution_count": null,
      "outputs": []
    },
    {
      "cell_type": "markdown",
      "metadata": {
        "id": "68SiMjcWqD_m"
      },
      "source": [
        "####**Validação do professor**"
      ]
    },
    {
      "cell_type": "markdown",
      "metadata": {
        "id": "T24EasckqG2I"
      },
      "source": [
        "Consolidar apenas os scripts do seu **modelo campeão**, desde o carregamento do dataframe, separação das amostras, tratamentos utilizados (funções, limpezas, etc.), criação dos objetos de vetorização dos textos e modelo treinado e outras implementações utilizadas no processo de desenvolvimento do modelo."
      ]
    },
    {
      "cell_type": "markdown",
      "source": [
        "Carregando dados"
      ],
      "metadata": {
        "id": "2VfZ2LNnJiT8"
      }
    },
    {
      "cell_type": "code",
      "metadata": {
        "id": "ZxqHA-XCrqsD"
      },
      "source": [
        "# CARREGANDO O DATA FRAME\n",
        "import pandas as pd\n",
        "df = pd.read_csv('https://dados-ml-pln.s3.sa-east-1.amazonaws.com/tickets_reclamacoes_classificados.csv', delimiter=';')\n",
        "\n",
        "# Façam o download do arquivo e utilizem localmente durante os testes"
      ],
      "execution_count": null,
      "outputs": []
    },
    {
      "cell_type": "markdown",
      "source": [
        "Pré processamento"
      ],
      "metadata": {
        "id": "TVqL0wXdJkZh"
      }
    },
    {
      "cell_type": "code",
      "metadata": {
        "id": "VFA-CYfawkEJ"
      },
      "source": [
        "# removendo pontuação e acentuação e colocando tudo em letra minuscula\n",
        "import re\n",
        "\n",
        "corpus = []\n",
        "for x in df['descricao_reclamacao']:\n",
        "  review = re.sub('[^a-zA-Z]', ' ', x)\n",
        "  review = review.lower()\n",
        "  corpus.append(review)\n",
        "df['descricao_reclamacao'] = corpus"
      ],
      "execution_count": null,
      "outputs": []
    },
    {
      "cell_type": "code",
      "source": [
        "from sklearn.feature_extraction.text import TfidfVectorizer\n",
        "import nltk\n",
        "nltk.download('stopwords')\n",
        "\n",
        "stops = nltk.corpus.stopwords.words('portuguese')\n",
        "\n",
        "vectorizer = TfidfVectorizer(ngram_range=(1,1), use_idf=True, stop_words=stops)\n",
        "vectorizer.fit(df[\"descricao_reclamacao\"])\n",
        "\n",
        "X = vectorizer.fit_transform(df[\"descricao_reclamacao\"])"
      ],
      "metadata": {
        "colab": {
          "base_uri": "https://localhost:8080/"
        },
        "id": "X7fxtBAHKEuy",
        "outputId": "7ebae639-15f8-4532-8d28-4c789bc77db7"
      },
      "execution_count": null,
      "outputs": [
        {
          "output_type": "stream",
          "name": "stderr",
          "text": [
            "[nltk_data] Downloading package stopwords to /root/nltk_data...\n",
            "[nltk_data]   Package stopwords is already up-to-date!\n"
          ]
        }
      ]
    },
    {
      "cell_type": "code",
      "source": [
        "from sklearn.preprocessing import LabelEncoder\n",
        "\n",
        "y = df['categoria']\n",
        "# Criar uma instância do LabelEncoder\n",
        "label_encoder = LabelEncoder()\n",
        "\n",
        "# Aplicar o LabelEncoder aos rótulos\n",
        "y_encoded = label_encoder.fit_transform(y)"
      ],
      "metadata": {
        "id": "zjrIX_nYKNJm"
      },
      "execution_count": null,
      "outputs": []
    },
    {
      "cell_type": "code",
      "source": [
        "from sklearn.model_selection import train_test_split\n",
        "\n",
        "X_treino, X_teste, y_treino, y_teste = train_test_split(X,y_encoded, test_size = 0.25)"
      ],
      "metadata": {
        "id": "UCmxpt4LKaqs"
      },
      "execution_count": null,
      "outputs": []
    },
    {
      "cell_type": "markdown",
      "source": [
        "Modelo"
      ],
      "metadata": {
        "id": "B9_w6KWjJmHr"
      }
    },
    {
      "cell_type": "code",
      "metadata": {
        "id": "BuJtvcfXo3J4",
        "colab": {
          "base_uri": "https://localhost:8080/"
        },
        "outputId": "6ba4a345-8c05-432d-81f6-3291d6c1aa02"
      },
      "source": [
        "from sklearn.svm import SVC\n",
        "from sklearn.metrics import accuracy_score, f1_score\n",
        "\n",
        "svm_model = SVC()\n",
        "\n",
        "# Train the classifier\n",
        "svm_model.fit(X_treino, y_treino)\n",
        "\n",
        "# Make predictions on the test set\n",
        "y_pred = svm_model.predict(X_teste)\n",
        "\n",
        "# Calculate the accuracy of the classifier\n",
        "accuracy = accuracy_score(y_teste, y_pred)\n",
        "print(\"Accuracy:\", accuracy)\n",
        "from sklearn.metrics import f1_score\n",
        "\n",
        "\n",
        "# Macro-Averaged F1 Score\n",
        "f1_macro = f1_score(y_teste, y_pred, average='macro')\n",
        "\n",
        "# Micro-Averaged F1 Score\n",
        "f1_micro = f1_score(y_teste, y_pred, average='micro')\n",
        "\n",
        "# Weighted-Averaged F1 Score\n",
        "f1_weighted = f1_score(y_teste, y_pred, average='weighted')\n",
        "\n",
        "print(\"Macro-Averaged F1 Score:\", f1_macro)\n",
        "print(\"Micro-Averaged F1 Score:\", f1_micro)\n",
        "print(\"Weighted-Averaged F1 Score:\", f1_weighted)"
      ],
      "execution_count": null,
      "outputs": [
        {
          "output_type": "stream",
          "name": "stdout",
          "text": [
            "Accuracy: 0.8954062262718299\n",
            "Macro-Averaged F1 Score: 0.8919647543274261\n",
            "Micro-Averaged F1 Score: 0.8954062262718299\n",
            "Weighted-Averaged F1 Score: 0.8950937375750277\n"
          ]
        }
      ]
    },
    {
      "cell_type": "code",
      "metadata": {
        "id": "6ULYNH6-o3Hf"
      },
      "source": [],
      "execution_count": null,
      "outputs": []
    },
    {
      "cell_type": "code",
      "metadata": {
        "id": "3ClM-JTJo3FK"
      },
      "source": [],
      "execution_count": null,
      "outputs": []
    }
  ]
}